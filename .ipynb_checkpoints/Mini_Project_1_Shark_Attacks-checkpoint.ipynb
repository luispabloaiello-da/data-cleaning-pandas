{
 "cells": [
  {
   "cell_type": "code",
   "execution_count": 1,
   "id": "92b1a3b4-6353-4b71-859b-c37b8b6b246e",
   "metadata": {},
   "outputs": [
    {
     "name": "stdout",
     "output_type": "stream",
     "text": [
      "<class 'pandas.core.frame.DataFrame'>\n",
      "RangeIndex: 7045 entries, 0 to 7044\n",
      "Data columns (total 23 columns):\n",
      " #   Column          Non-Null Count  Dtype  \n",
      "---  ------          --------------  -----  \n",
      " 0   Date            7045 non-null   object \n",
      " 1   Year            7043 non-null   float64\n",
      " 2   Type            7027 non-null   object \n",
      " 3   Country         6995 non-null   object \n",
      " 4   State           6560 non-null   object \n",
      " 5   Location        6478 non-null   object \n",
      " 6   Activity        6460 non-null   object \n",
      " 7   Name            6826 non-null   object \n",
      " 8   Sex             6466 non-null   object \n",
      " 9   Age             4051 non-null   object \n",
      " 10  Injury          7010 non-null   object \n",
      " 11  Fatal Y/N       6484 non-null   object \n",
      " 12  Time            3519 non-null   object \n",
      " 13  Species         3914 non-null   object \n",
      " 14  Source          7025 non-null   object \n",
      " 15  pdf             6799 non-null   object \n",
      " 16  href formula    6794 non-null   object \n",
      " 17  href            6796 non-null   object \n",
      " 18  Case Number     6798 non-null   object \n",
      " 19  Case Number.1   6797 non-null   object \n",
      " 20  original order  6799 non-null   float64\n",
      " 21  Unnamed: 21     1 non-null      object \n",
      " 22  Unnamed: 22     2 non-null      object \n",
      "dtypes: float64(2), object(21)\n",
      "memory usage: 1.2+ MB\n"
     ]
    },
    {
     "data": {
      "text/plain": [
       "None"
      ]
     },
     "metadata": {},
     "output_type": "display_data"
    }
   ],
   "source": [
    "import pandas as pd\n",
    "import numpy as np\n",
    "import matplotlib.pyplot as plt\n",
    "import seaborn as sns\n",
    "import re\n",
    "\n",
    "# Load data\n",
    "file_path = 'https://www.sharkattackfile.net/spreadsheets/GSAF5.xls'\n",
    "# file_path = r'C:\\Users\\pablo\\vscode101\\Project_Files\\GSAF5.xls'\n",
    "df = pd.read_excel(file_path)\n",
    "\n",
    "# Quick look at columns and missingness\n",
    "display(df.info())\n",
    "\n",
    "# Display the first few rows\n",
    "# df.info()\n",
    "# df.dtypes\n",
    "# df.nunique()\n",
    "# df.describe()\n",
    "# display(df.isna().sum())\n",
    "# display((df.isna().sum()/df.shape[0])*100)\n",
    "# df.head()"
   ]
  },
  {
   "cell_type": "code",
   "execution_count": 2,
   "id": "60d24e3f-4c37-40b6-bf9a-2e628bedc84f",
   "metadata": {},
   "outputs": [
    {
     "data": {
      "text/html": [
       "<div>\n",
       "<style scoped>\n",
       "    .dataframe tbody tr th:only-of-type {\n",
       "        vertical-align: middle;\n",
       "    }\n",
       "\n",
       "    .dataframe tbody tr th {\n",
       "        vertical-align: top;\n",
       "    }\n",
       "\n",
       "    .dataframe thead th {\n",
       "        text-align: right;\n",
       "    }\n",
       "</style>\n",
       "<table border=\"1\" class=\"dataframe\">\n",
       "  <thead>\n",
       "    <tr style=\"text-align: right;\">\n",
       "      <th></th>\n",
       "      <th>Date</th>\n",
       "      <th>Year</th>\n",
       "      <th>Type</th>\n",
       "      <th>Country</th>\n",
       "      <th>State</th>\n",
       "      <th>Location</th>\n",
       "      <th>Activity</th>\n",
       "      <th>Name</th>\n",
       "      <th>Sex</th>\n",
       "      <th>Age</th>\n",
       "      <th>...</th>\n",
       "      <th>Species</th>\n",
       "      <th>Source</th>\n",
       "      <th>pdf</th>\n",
       "      <th>href formula</th>\n",
       "      <th>href</th>\n",
       "      <th>Case Number</th>\n",
       "      <th>Case Number.1</th>\n",
       "      <th>original order</th>\n",
       "      <th>Unnamed: 21</th>\n",
       "      <th>Unnamed: 22</th>\n",
       "    </tr>\n",
       "  </thead>\n",
       "  <tbody>\n",
       "    <tr>\n",
       "      <th>0</th>\n",
       "      <td>6th September</td>\n",
       "      <td>2025.0</td>\n",
       "      <td>Unprovoked</td>\n",
       "      <td>Australia</td>\n",
       "      <td>NSW</td>\n",
       "      <td>Long Reef Sydney</td>\n",
       "      <td>Surfing</td>\n",
       "      <td>Mercury Psillaskis</td>\n",
       "      <td>M</td>\n",
       "      <td>57</td>\n",
       "      <td>...</td>\n",
       "      <td>Great White Shark</td>\n",
       "      <td>Todd Smith: Andy Currie: Simon De Marchi: Kevi...</td>\n",
       "      <td>NaN</td>\n",
       "      <td>NaN</td>\n",
       "      <td>NaN</td>\n",
       "      <td>NaN</td>\n",
       "      <td>NaN</td>\n",
       "      <td>NaN</td>\n",
       "      <td>NaN</td>\n",
       "      <td>NaN</td>\n",
       "    </tr>\n",
       "    <tr>\n",
       "      <th>1</th>\n",
       "      <td>1st September</td>\n",
       "      <td>2025.0</td>\n",
       "      <td>Unprovoked</td>\n",
       "      <td>USA</td>\n",
       "      <td>Florida</td>\n",
       "      <td>Horseshoe reef Key Largo</td>\n",
       "      <td>Snorkeling</td>\n",
       "      <td>Richard Burrows</td>\n",
       "      <td>M</td>\n",
       "      <td>8</td>\n",
       "      <td>...</td>\n",
       "      <td>Not stated</td>\n",
       "      <td>Todd Smith: US SUN: NY Post: The Guardian: Peo...</td>\n",
       "      <td>NaN</td>\n",
       "      <td>NaN</td>\n",
       "      <td>NaN</td>\n",
       "      <td>NaN</td>\n",
       "      <td>NaN</td>\n",
       "      <td>NaN</td>\n",
       "      <td>NaN</td>\n",
       "      <td>NaN</td>\n",
       "    </tr>\n",
       "    <tr>\n",
       "      <th>2</th>\n",
       "      <td>30th August</td>\n",
       "      <td>2025.0</td>\n",
       "      <td>Unprovoked</td>\n",
       "      <td>USA</td>\n",
       "      <td>Texas</td>\n",
       "      <td>Galveston</td>\n",
       "      <td>Swimming</td>\n",
       "      <td>Harper Ochoa</td>\n",
       "      <td>F</td>\n",
       "      <td>8</td>\n",
       "      <td>...</td>\n",
       "      <td>Not stated</td>\n",
       "      <td>Bob Myatt GSAF : People:</td>\n",
       "      <td>NaN</td>\n",
       "      <td>NaN</td>\n",
       "      <td>NaN</td>\n",
       "      <td>NaN</td>\n",
       "      <td>NaN</td>\n",
       "      <td>NaN</td>\n",
       "      <td>NaN</td>\n",
       "      <td>NaN</td>\n",
       "    </tr>\n",
       "    <tr>\n",
       "      <th>3</th>\n",
       "      <td>18th August</td>\n",
       "      <td>2025.0</td>\n",
       "      <td>Unprovoked</td>\n",
       "      <td>Australia</td>\n",
       "      <td>NSW</td>\n",
       "      <td>Cabarita Beach</td>\n",
       "      <td>Surfing</td>\n",
       "      <td>Brad Ross</td>\n",
       "      <td>M</td>\n",
       "      <td>?</td>\n",
       "      <td>...</td>\n",
       "      <td>5m (16.5ft) Great White</td>\n",
       "      <td>Bob Myatt GSAF The Guardian: 9 News: ABS News:...</td>\n",
       "      <td>NaN</td>\n",
       "      <td>NaN</td>\n",
       "      <td>NaN</td>\n",
       "      <td>NaN</td>\n",
       "      <td>NaN</td>\n",
       "      <td>NaN</td>\n",
       "      <td>NaN</td>\n",
       "      <td>NaN</td>\n",
       "    </tr>\n",
       "    <tr>\n",
       "      <th>4</th>\n",
       "      <td>17th August</td>\n",
       "      <td>2025.0</td>\n",
       "      <td>Unprovoked</td>\n",
       "      <td>Bahamas</td>\n",
       "      <td>Atlantic Ocean near Big Grand Cay</td>\n",
       "      <td>North of Grand Bahama near Freeport</td>\n",
       "      <td>Spearfishing</td>\n",
       "      <td>Not stated</td>\n",
       "      <td>M</td>\n",
       "      <td>63</td>\n",
       "      <td>...</td>\n",
       "      <td>Undetermined</td>\n",
       "      <td>Ralph Collier GSAF and Kevin MCMurray Tracking...</td>\n",
       "      <td>NaN</td>\n",
       "      <td>NaN</td>\n",
       "      <td>NaN</td>\n",
       "      <td>NaN</td>\n",
       "      <td>NaN</td>\n",
       "      <td>NaN</td>\n",
       "      <td>NaN</td>\n",
       "      <td>NaN</td>\n",
       "    </tr>\n",
       "  </tbody>\n",
       "</table>\n",
       "<p>5 rows × 23 columns</p>\n",
       "</div>"
      ],
      "text/plain": [
       "            Date    Year        Type    Country  \\\n",
       "0  6th September  2025.0  Unprovoked  Australia   \n",
       "1  1st September  2025.0  Unprovoked        USA   \n",
       "2    30th August  2025.0  Unprovoked        USA   \n",
       "3    18th August  2025.0  Unprovoked  Australia   \n",
       "4    17th August  2025.0  Unprovoked    Bahamas   \n",
       "\n",
       "                               State                             Location  \\\n",
       "0                                NSW                     Long Reef Sydney   \n",
       "1                            Florida             Horseshoe reef Key Largo   \n",
       "2                              Texas                            Galveston   \n",
       "3                                NSW                       Cabarita Beach   \n",
       "4  Atlantic Ocean near Big Grand Cay  North of Grand Bahama near Freeport   \n",
       "\n",
       "       Activity                Name Sex Age  ...                 Species   \\\n",
       "0       Surfing  Mercury Psillaskis   M  57  ...        Great White Shark   \n",
       "1    Snorkeling     Richard Burrows   M   8  ...               Not stated   \n",
       "2      Swimming        Harper Ochoa   F   8  ...               Not stated   \n",
       "3       Surfing           Brad Ross   M   ?  ...  5m (16.5ft) Great White   \n",
       "4  Spearfishing          Not stated   M  63  ...             Undetermined   \n",
       "\n",
       "                                              Source  pdf href formula href  \\\n",
       "0  Todd Smith: Andy Currie: Simon De Marchi: Kevi...  NaN          NaN  NaN   \n",
       "1  Todd Smith: US SUN: NY Post: The Guardian: Peo...  NaN          NaN  NaN   \n",
       "2                           Bob Myatt GSAF : People:  NaN          NaN  NaN   \n",
       "3  Bob Myatt GSAF The Guardian: 9 News: ABS News:...  NaN          NaN  NaN   \n",
       "4  Ralph Collier GSAF and Kevin MCMurray Tracking...  NaN          NaN  NaN   \n",
       "\n",
       "  Case Number Case Number.1 original order Unnamed: 21 Unnamed: 22  \n",
       "0         NaN           NaN            NaN         NaN         NaN  \n",
       "1         NaN           NaN            NaN         NaN         NaN  \n",
       "2         NaN           NaN            NaN         NaN         NaN  \n",
       "3         NaN           NaN            NaN         NaN         NaN  \n",
       "4         NaN           NaN            NaN         NaN         NaN  \n",
       "\n",
       "[5 rows x 23 columns]"
      ]
     },
     "metadata": {},
     "output_type": "display_data"
    }
   ],
   "source": [
    "display(df.head())"
   ]
  },
  {
   "cell_type": "code",
   "execution_count": 3,
   "id": "64b6d068-a0a5-4ff9-a559-fa5042e36576",
   "metadata": {},
   "outputs": [
    {
     "data": {
      "text/plain": [
       "Date                 0\n",
       "Year                 2\n",
       "Type                18\n",
       "Country             50\n",
       "State              485\n",
       "Location           567\n",
       "Activity           585\n",
       "Name               219\n",
       "Sex                579\n",
       "Age               2994\n",
       "Injury              35\n",
       "Fatal Y/N          561\n",
       "Time              3526\n",
       "Species           3131\n",
       "Source              20\n",
       "pdf                246\n",
       "href formula       251\n",
       "href               249\n",
       "Case Number        247\n",
       "Case Number.1      248\n",
       "original order     246\n",
       "Unnamed: 21       7044\n",
       "Unnamed: 22       7043\n",
       "dtype: int64"
      ]
     },
     "metadata": {},
     "output_type": "display_data"
    }
   ],
   "source": [
    "display(df.isnull().sum())"
   ]
  },
  {
   "cell_type": "code",
   "execution_count": 4,
   "id": "b5a32fa8-0992-4ab2-9f84-f7d17ec37ce7",
   "metadata": {},
   "outputs": [
    {
     "data": {
      "text/plain": [
       "Activity\n",
       "Surfing                                                                            1139\n",
       "Swimming                                                                           1004\n",
       "Fishing                                                                             493\n",
       "Spearfishing                                                                        391\n",
       "Wading                                                                              178\n",
       "                                                                                   ... \n",
       "Fishing from a small boat & put his hand in the water while holding a dead fish       1\n",
       "Swimming naked near a date palm where many dates fell into the water                  1\n",
       "Swimming in section of river used for washing clothes & cooking utensils              1\n",
       "Swimming with fish attached to  belt                                                  1\n",
       "The cutter Francis Adams foundered                                                    1\n",
       "Name: count, Length: 1606, dtype: int64"
      ]
     },
     "metadata": {},
     "output_type": "display_data"
    }
   ],
   "source": [
    "display(df['Activity'].value_counts())"
   ]
  },
  {
   "cell_type": "code",
   "execution_count": 5,
   "id": "b75edf58-1807-4cc2-a45a-3e85af0d97aa",
   "metadata": {},
   "outputs": [],
   "source": [
    "# Drop unnecessary columns\n",
    "columns_to_drop = ['Unnamed: 21', 'Unnamed: 22', 'pdf', 'href formula', 'href', 'Case Number', 'Case Number.1', 'original order', 'Source']\n",
    "df_clean = df.drop(columns=columns_to_drop, errors='ignore')"
   ]
  },
  {
   "cell_type": "code",
   "execution_count": 6,
   "id": "9bf22679-e4b7-487f-9ae7-a1f3939f2816",
   "metadata": {},
   "outputs": [],
   "source": [
    "# Standardize column names\n",
    "df_clean.columns = df_clean.columns.str.strip().str.replace(' ', '_')"
   ]
  },
  {
   "cell_type": "code",
   "execution_count": 7,
   "id": "4e8fba24-eb6e-4849-bec2-febf86598f2d",
   "metadata": {},
   "outputs": [
    {
     "data": {
      "text/plain": [
       "Country\n",
       "USA                   2572\n",
       "AUSTRALIA             1481\n",
       "SOUTH AFRICA           597\n",
       "NEW ZEALAND            144\n",
       "BAHAMAS                136\n",
       "                      ... \n",
       "BAHREIN                  1\n",
       "KOREA                    1\n",
       "RED SEA?                 1\n",
       "ASIA?                    1\n",
       "CEYLON (SRI LANKA)       1\n",
       "Name: count, Length: 247, dtype: int64"
      ]
     },
     "metadata": {},
     "output_type": "display_data"
    }
   ],
   "source": [
    "display(df['Country'].value_counts())"
   ]
  },
  {
   "cell_type": "code",
   "execution_count": 8,
   "id": "de9893fd-c437-49c1-a84e-70b9789d0ed0",
   "metadata": {},
   "outputs": [],
   "source": [
    "# Filter for surfing-related attacks\n",
    "# surfing_activities = df_clean['Activity'].str.contains('surf', case=False, na=False)\n",
    "# df_surf = df_clean[surfing_activities].copy().reset_index(drop=True)"
   ]
  },
  {
   "cell_type": "code",
   "execution_count": 9,
   "id": "9eb80106-85dd-49b2-99bd-0b2cd09b489e",
   "metadata": {},
   "outputs": [],
   "source": [
    "# Improved regex for filtering surfing-related attacks\n",
    "# This matches 'surf', 'surfing', 'surfer', 'windsurf', 'kite-surf', etc., and ignores words like 'surface'\n",
    "regex_pattern = r\"\\bsurf\\w*\\b\"  # \\b = word boundary, \\w* = zero or more word chars (matches 'surf', 'surfing', etc.)\n",
    "surfing_activities = df_clean['Activity'].str.contains(regex_pattern, flags=re.IGNORECASE, na=False, regex=True)\n",
    "df_surf = df_clean[surfing_activities].copy().reset_index(drop=True)"
   ]
  },
  {
   "cell_type": "code",
   "execution_count": 10,
   "id": "4b0eb306-cd10-4ac1-a578-24cbfbaa8a63",
   "metadata": {},
   "outputs": [
    {
     "name": "stdout",
     "output_type": "stream",
     "text": [
      "Best market: USA\n",
      "In USA, highest risk state: Florida\n"
     ]
    }
   ],
   "source": [
    "# Where is the best market for surfing insurance?\n",
    "top_country = df['Country'].value_counts().idxmax()\n",
    "print(f\"Best market: {top_country}\")\n",
    "\n",
    "# Which states/beaches are highest risk?\n",
    "top_state = df_surf[df_surf['Country'] == top_country]['State'].value_counts().idxmax()\n",
    "print(f\"In {top_country}, highest risk state: {top_state}\")"
   ]
  },
  {
   "cell_type": "code",
   "execution_count": 53,
   "id": "61763310-c3a5-442d-adde-89f3ecee37ee",
   "metadata": {},
   "outputs": [
    {
     "data": {
      "text/html": [
       "<div>\n",
       "<style scoped>\n",
       "    .dataframe tbody tr th:only-of-type {\n",
       "        vertical-align: middle;\n",
       "    }\n",
       "\n",
       "    .dataframe tbody tr th {\n",
       "        vertical-align: top;\n",
       "    }\n",
       "\n",
       "    .dataframe thead th {\n",
       "        text-align: right;\n",
       "    }\n",
       "</style>\n",
       "<table border=\"1\" class=\"dataframe\">\n",
       "  <thead>\n",
       "    <tr style=\"text-align: right;\">\n",
       "      <th></th>\n",
       "      <th>Country</th>\n",
       "      <th>Attack_Count</th>\n",
       "    </tr>\n",
       "  </thead>\n",
       "  <tbody>\n",
       "    <tr>\n",
       "      <th>0</th>\n",
       "      <td>USA</td>\n",
       "      <td>812</td>\n",
       "    </tr>\n",
       "    <tr>\n",
       "      <th>1</th>\n",
       "      <td>AUSTRALIA</td>\n",
       "      <td>318</td>\n",
       "    </tr>\n",
       "    <tr>\n",
       "      <th>2</th>\n",
       "      <td>SOUTH AFRICA</td>\n",
       "      <td>141</td>\n",
       "    </tr>\n",
       "    <tr>\n",
       "      <th>3</th>\n",
       "      <td>BRAZIL</td>\n",
       "      <td>40</td>\n",
       "    </tr>\n",
       "    <tr>\n",
       "      <th>4</th>\n",
       "      <td>REUNION</td>\n",
       "      <td>20</td>\n",
       "    </tr>\n",
       "    <tr>\n",
       "      <th>5</th>\n",
       "      <td>NEW ZEALAND</td>\n",
       "      <td>19</td>\n",
       "    </tr>\n",
       "    <tr>\n",
       "      <th>6</th>\n",
       "      <td>MEXICO</td>\n",
       "      <td>12</td>\n",
       "    </tr>\n",
       "    <tr>\n",
       "      <th>7</th>\n",
       "      <td>INDONESIA</td>\n",
       "      <td>7</td>\n",
       "    </tr>\n",
       "    <tr>\n",
       "      <th>8</th>\n",
       "      <td>NEW CALEDONIA</td>\n",
       "      <td>6</td>\n",
       "    </tr>\n",
       "    <tr>\n",
       "      <th>9</th>\n",
       "      <td>ECUADOR</td>\n",
       "      <td>4</td>\n",
       "    </tr>\n",
       "  </tbody>\n",
       "</table>\n",
       "</div>"
      ],
      "text/plain": [
       "         Country  Attack_Count\n",
       "0            USA           812\n",
       "1      AUSTRALIA           318\n",
       "2   SOUTH AFRICA           141\n",
       "3         BRAZIL            40\n",
       "4        REUNION            20\n",
       "5    NEW ZEALAND            19\n",
       "6         MEXICO            12\n",
       "7      INDONESIA             7\n",
       "8  NEW CALEDONIA             6\n",
       "9        ECUADOR             4"
      ]
     },
     "metadata": {},
     "output_type": "display_data"
    }
   ],
   "source": [
    "# def attacks_pivot(df: pd.DataFrame) -> pd.DataFrame:\n",
    "#     # Group by Country and count attacks\n",
    "#     pivot = df.groupby('Country').size().reset_index(name='Attack_Count')\n",
    "\n",
    "#     # Sort by Attack_Count descending for risk ranking\n",
    "#     pivot = pivot.sort_values(by='Attack_Count', ascending=False).reset_index(drop=True)\n",
    "\n",
    "#     return pivot\n",
    "\n",
    "# display(attacks_pivot(df_surf))\n",
    "\n",
    "def attacks_top10_countries(df: pd.DataFrame) -> pd.DataFrame:\n",
    "    # Group by Country and count attacks\n",
    "    country_counts = df.groupby('Country').size().reset_index(name='Attack_Count')\n",
    "    # Sort in descending order\n",
    "    country_counts = country_counts.sort_values(by='Attack_Count', ascending=False)\n",
    "    # Select only the top 10\n",
    "    top10 = country_counts.head(10).reset_index(drop=True)\n",
    "    return top10\n",
    "\n",
    "display(attacks_top10_countries(df_surf))"
   ]
  },
  {
   "cell_type": "code",
   "execution_count": 51,
   "id": "3181e2e8-653b-40d6-a688-888a05347b23",
   "metadata": {},
   "outputs": [
    {
     "name": "stdout",
     "output_type": "stream",
     "text": [
      "Country       1\n",
      "State         9\n",
      "Location     17\n",
      "Date          0\n",
      "Year          1\n",
      "Fatal_Y/N     0\n",
      "Injury        7\n",
      "Sex          30\n",
      "dtype: int64\n"
     ]
    }
   ],
   "source": [
    "# Check missingness in relevant columns\n",
    "print(df_surf[['Country', 'State', 'Location', 'Date', 'Year', 'Fatal_Y/N', 'Injury', 'Sex']].isnull().sum())"
   ]
  },
  {
   "cell_type": "code",
   "execution_count": 12,
   "id": "59acd053-45d2-448f-ade4-6ddc93fa5f67",
   "metadata": {},
   "outputs": [
    {
     "name": "stdout",
     "output_type": "stream",
     "text": [
      "<class 'pandas.core.frame.DataFrame'>\n",
      "RangeIndex: 1427 entries, 0 to 1426\n",
      "Data columns (total 14 columns):\n",
      " #   Column     Non-Null Count  Dtype  \n",
      "---  ------     --------------  -----  \n",
      " 0   Date       1427 non-null   object \n",
      " 1   Year       1427 non-null   float64\n",
      " 2   Type       1424 non-null   object \n",
      " 3   Country    1426 non-null   object \n",
      " 4   State      1418 non-null   object \n",
      " 5   Location   1410 non-null   object \n",
      " 6   Activity   1427 non-null   object \n",
      " 7   Name       1417 non-null   object \n",
      " 8   Sex        1398 non-null   object \n",
      " 9   Age        1126 non-null   object \n",
      " 10  Injury     1420 non-null   object \n",
      " 11  Fatal_Y/N  1378 non-null   object \n",
      " 12  Time       1104 non-null   object \n",
      " 13  Species    880 non-null    object \n",
      "dtypes: float64(1), object(13)\n",
      "memory usage: 156.2+ KB\n"
     ]
    }
   ],
   "source": [
    "df_surf.info()"
   ]
  },
  {
   "cell_type": "code",
   "execution_count": 13,
   "id": "93017ed4-3b80-4584-a2fb-49f8857ab7a0",
   "metadata": {},
   "outputs": [
    {
     "data": {
      "text/html": [
       "<div>\n",
       "<style scoped>\n",
       "    .dataframe tbody tr th:only-of-type {\n",
       "        vertical-align: middle;\n",
       "    }\n",
       "\n",
       "    .dataframe tbody tr th {\n",
       "        vertical-align: top;\n",
       "    }\n",
       "\n",
       "    .dataframe thead th {\n",
       "        text-align: right;\n",
       "    }\n",
       "</style>\n",
       "<table border=\"1\" class=\"dataframe\">\n",
       "  <thead>\n",
       "    <tr style=\"text-align: right;\">\n",
       "      <th></th>\n",
       "      <th>Date</th>\n",
       "      <th>Year</th>\n",
       "      <th>Type</th>\n",
       "      <th>Country</th>\n",
       "      <th>State</th>\n",
       "      <th>Location</th>\n",
       "      <th>Activity</th>\n",
       "      <th>Name</th>\n",
       "      <th>Sex</th>\n",
       "      <th>Age</th>\n",
       "      <th>Injury</th>\n",
       "      <th>Fatal_Y/N</th>\n",
       "      <th>Time</th>\n",
       "      <th>Species</th>\n",
       "    </tr>\n",
       "  </thead>\n",
       "  <tbody>\n",
       "    <tr>\n",
       "      <th>0</th>\n",
       "      <td>6th September</td>\n",
       "      <td>2025.0</td>\n",
       "      <td>Unprovoked</td>\n",
       "      <td>Australia</td>\n",
       "      <td>NSW</td>\n",
       "      <td>Long Reef Sydney</td>\n",
       "      <td>Surfing</td>\n",
       "      <td>Mercury Psillaskis</td>\n",
       "      <td>M</td>\n",
       "      <td>57</td>\n",
       "      <td>Both legs and arm severed</td>\n",
       "      <td>Y</td>\n",
       "      <td>0930hrs</td>\n",
       "      <td>Great White Shark</td>\n",
       "    </tr>\n",
       "    <tr>\n",
       "      <th>1</th>\n",
       "      <td>18th August</td>\n",
       "      <td>2025.0</td>\n",
       "      <td>Unprovoked</td>\n",
       "      <td>Australia</td>\n",
       "      <td>NSW</td>\n",
       "      <td>Cabarita Beach</td>\n",
       "      <td>Surfing</td>\n",
       "      <td>Brad Ross</td>\n",
       "      <td>M</td>\n",
       "      <td>?</td>\n",
       "      <td>None sustained board severly damaged</td>\n",
       "      <td>N</td>\n",
       "      <td>0730hrs</td>\n",
       "      <td>5m (16.5ft) Great White</td>\n",
       "    </tr>\n",
       "    <tr>\n",
       "      <th>2</th>\n",
       "      <td>7th August</td>\n",
       "      <td>2025.0</td>\n",
       "      <td>Unprovoked</td>\n",
       "      <td>Australia</td>\n",
       "      <td>NSW</td>\n",
       "      <td>Tathra Beach</td>\n",
       "      <td>Surfing</td>\n",
       "      <td>Bowie Daley</td>\n",
       "      <td>M</td>\n",
       "      <td>9</td>\n",
       "      <td>None sustained board severely damaged</td>\n",
       "      <td>N</td>\n",
       "      <td>1630hrs</td>\n",
       "      <td>Suspected Great White</td>\n",
       "    </tr>\n",
       "    <tr>\n",
       "      <th>3</th>\n",
       "      <td>20th July</td>\n",
       "      <td>2025.0</td>\n",
       "      <td>Unprovoked</td>\n",
       "      <td>Canary Islands</td>\n",
       "      <td>Fuerteventura</td>\n",
       "      <td>Los Mollinas</td>\n",
       "      <td>Surfing (Hydrofoiling)</td>\n",
       "      <td>Unknown</td>\n",
       "      <td>M</td>\n",
       "      <td>?</td>\n",
       "      <td>Lacerations to left leg above the knee</td>\n",
       "      <td>N</td>\n",
       "      <td>PM</td>\n",
       "      <td>Undetermined</td>\n",
       "    </tr>\n",
       "    <tr>\n",
       "      <th>4</th>\n",
       "      <td>18th July</td>\n",
       "      <td>2025.0</td>\n",
       "      <td>Unprovoked</td>\n",
       "      <td>USA</td>\n",
       "      <td>Florida</td>\n",
       "      <td>New Smyrna Beach</td>\n",
       "      <td>Surfing</td>\n",
       "      <td>Sam Hollis</td>\n",
       "      <td>M</td>\n",
       "      <td>18</td>\n",
       "      <td>Lacerations to left foot</td>\n",
       "      <td>N</td>\n",
       "      <td>1150hrs</td>\n",
       "      <td>Undetermined</td>\n",
       "    </tr>\n",
       "  </tbody>\n",
       "</table>\n",
       "</div>"
      ],
      "text/plain": [
       "            Date    Year        Type         Country          State  \\\n",
       "0  6th September  2025.0  Unprovoked       Australia            NSW   \n",
       "1    18th August  2025.0  Unprovoked       Australia            NSW   \n",
       "2     7th August  2025.0  Unprovoked       Australia            NSW   \n",
       "3      20th July  2025.0  Unprovoked  Canary Islands  Fuerteventura   \n",
       "4      18th July  2025.0  Unprovoked             USA        Florida   \n",
       "\n",
       "           Location                Activity                Name Sex Age  \\\n",
       "0  Long Reef Sydney                 Surfing  Mercury Psillaskis   M  57   \n",
       "1    Cabarita Beach                 Surfing           Brad Ross   M   ?   \n",
       "2     Tathra Beach                  Surfing         Bowie Daley   M   9   \n",
       "3      Los Mollinas  Surfing (Hydrofoiling)             Unknown   M   ?   \n",
       "4  New Smyrna Beach                 Surfing          Sam Hollis   M  18   \n",
       "\n",
       "                                   Injury Fatal_Y/N     Time  \\\n",
       "0               Both legs and arm severed         Y  0930hrs   \n",
       "1    None sustained board severly damaged         N  0730hrs   \n",
       "2   None sustained board severely damaged         N  1630hrs   \n",
       "3  Lacerations to left leg above the knee         N       PM   \n",
       "4                Lacerations to left foot         N  1150hrs   \n",
       "\n",
       "                   Species  \n",
       "0        Great White Shark  \n",
       "1  5m (16.5ft) Great White  \n",
       "2    Suspected Great White  \n",
       "3             Undetermined  \n",
       "4             Undetermined  "
      ]
     },
     "execution_count": 13,
     "metadata": {},
     "output_type": "execute_result"
    }
   ],
   "source": [
    "df_surf.head()"
   ]
  },
  {
   "cell_type": "code",
   "execution_count": 14,
   "id": "76f0b3a8-b848-413d-a0dd-b438898f6b83",
   "metadata": {},
   "outputs": [],
   "source": [
    "# Standardize 'Country' and 'State'\n",
    "df_surf['Country'] = df_surf['Country'].str.upper().str.strip()\n",
    "df_surf['State'] = df_surf['State'].str.title().str.strip()"
   ]
  },
  {
   "cell_type": "code",
   "execution_count": 15,
   "id": "ec396c0f-5eae-4b41-85a5-b5a3875c0d54",
   "metadata": {},
   "outputs": [],
   "source": [
    "# Convert 'Year' to integer, handle missing/invalid as NaN\n",
    "df_surf['Year'] = pd.to_numeric(df['Year'], errors='coerce').astype('Int64')"
   ]
  },
  {
   "cell_type": "code",
   "execution_count": 16,
   "id": "34dd6285-55d3-4bbc-94e3-ca117ab9b7e3",
   "metadata": {},
   "outputs": [
    {
     "data": {
      "text/plain": [
       "array(['M', 'F', nan, 'lli'], dtype=object)"
      ]
     },
     "metadata": {},
     "output_type": "display_data"
    },
    {
     "name": "stdout",
     "output_type": "stream",
     "text": [
      "------------------------------\n"
     ]
    },
    {
     "data": {
      "text/plain": [
       "np.int64(29)"
      ]
     },
     "metadata": {},
     "output_type": "display_data"
    },
    {
     "name": "stdout",
     "output_type": "stream",
     "text": [
      "------------------------------\n"
     ]
    }
   ],
   "source": [
    "display(df_surf['Sex'].unique())\n",
    "print('------------------------------')\n",
    "display(df_surf['Sex'].isnull().sum())\n",
    "print('------------------------------')\n",
    "# display(df_surf['Sex'])"
   ]
  },
  {
   "cell_type": "code",
   "execution_count": 17,
   "id": "78e18b51-189b-4919-bd44-9467d4c069c3",
   "metadata": {},
   "outputs": [],
   "source": [
    "# Standardize 'Sex'\n",
    "df_surf['Sex'] = df_surf['Sex'].apply(\n",
    "    lambda x: (\n",
    "        None if pd.isnull(x)\n",
    "        else 'M' if str(x).strip().upper() in ['MALE', 'M']\n",
    "        else 'F' if str(x).strip().upper() in ['FEMALE', 'F']\n",
    "        else None\n",
    "    )\n",
    ")"
   ]
  },
  {
   "cell_type": "code",
   "execution_count": 18,
   "id": "32fa6e7d-bfac-4007-8a7f-14e417abaefa",
   "metadata": {},
   "outputs": [
    {
     "data": {
      "text/plain": [
       "array(['M', 'F', None], dtype=object)"
      ]
     },
     "metadata": {},
     "output_type": "display_data"
    },
    {
     "name": "stdout",
     "output_type": "stream",
     "text": [
      "------------------------------\n"
     ]
    },
    {
     "data": {
      "text/plain": [
       "np.int64(30)"
      ]
     },
     "metadata": {},
     "output_type": "display_data"
    },
    {
     "name": "stdout",
     "output_type": "stream",
     "text": [
      "------------------------------\n"
     ]
    }
   ],
   "source": [
    "display(df_surf['Sex'].unique())\n",
    "print('------------------------------')\n",
    "display(df_surf['Sex'].isnull().sum())\n",
    "print('------------------------------')\n",
    "# display(df_surf['Sex'])"
   ]
  },
  {
   "cell_type": "code",
   "execution_count": 19,
   "id": "f29ca473-c188-4996-a888-b77542b697d1",
   "metadata": {},
   "outputs": [
    {
     "data": {
      "text/plain": [
       "array(['Y', 'N', 'F', nan, 'Nq', 'UNKNOWN', ' N'], dtype=object)"
      ]
     },
     "metadata": {},
     "output_type": "display_data"
    },
    {
     "name": "stdout",
     "output_type": "stream",
     "text": [
      "------------------------------\n"
     ]
    },
    {
     "data": {
      "text/plain": [
       "np.int64(49)"
      ]
     },
     "metadata": {},
     "output_type": "display_data"
    },
    {
     "name": "stdout",
     "output_type": "stream",
     "text": [
      "------------------------------\n"
     ]
    }
   ],
   "source": [
    "display(df_surf['Fatal_Y/N'].unique())\n",
    "print('------------------------------')\n",
    "display(df_surf['Fatal_Y/N'].isnull().sum())\n",
    "print('------------------------------')\n",
    "# display(df_surf['Fatal_Y/N'])"
   ]
  },
  {
   "cell_type": "code",
   "execution_count": 20,
   "id": "2d75c8c9-6d28-4e00-9b3d-3adafccac5a1",
   "metadata": {},
   "outputs": [],
   "source": [
    "# Standarize values in column Fatal_Y/N using regex\n",
    "def clean_fatal_yn(val):\n",
    "    if pd.isnull(val):\n",
    "        return 'Unknown'\n",
    "    val_str = str(val).strip().upper()\n",
    "    if re.search(r'\\bY\\b', val_str) or re.search(r'\\bF\\b', val_str) or re.match(r'Y', val_str):\n",
    "        return 'Y'\n",
    "    if re.search(r'\\bN\\b', val_str) or re.search(r'\\bM\\b', val_str) or re.match(r'N', val_str):\n",
    "        return 'N'\n",
    "    # if val_str in ['UNKNOWN', '', 'NQ']:\n",
    "    #     return 'Unknown'\n",
    "    return 'Unknown'\n",
    "    \n",
    "df_surf['Fatal_Y/N'] = df_surf['Fatal_Y/N'].apply(clean_fatal_yn)"
   ]
  },
  {
   "cell_type": "code",
   "execution_count": 21,
   "id": "ad509f48-d500-498e-a9b0-febdc3f343c5",
   "metadata": {},
   "outputs": [
    {
     "data": {
      "text/plain": [
       "array(['Y', 'N', 'Unknown'], dtype=object)"
      ]
     },
     "metadata": {},
     "output_type": "display_data"
    },
    {
     "name": "stdout",
     "output_type": "stream",
     "text": [
      "------------------------------\n"
     ]
    },
    {
     "data": {
      "text/plain": [
       "np.int64(0)"
      ]
     },
     "metadata": {},
     "output_type": "display_data"
    },
    {
     "name": "stdout",
     "output_type": "stream",
     "text": [
      "------------------------------\n"
     ]
    }
   ],
   "source": [
    "display(df_surf['Fatal_Y/N'].unique())\n",
    "print('------------------------------')\n",
    "display(df_surf['Fatal_Y/N'].isnull().sum())\n",
    "print('------------------------------')\n",
    "# display(df_surf['Fatal_Y/N'])"
   ]
  },
  {
   "cell_type": "code",
   "execution_count": 22,
   "id": "e45bf052-4d29-42c8-be53-caaba7d1505a",
   "metadata": {},
   "outputs": [
    {
     "data": {
      "text/plain": [
       "133"
      ]
     },
     "metadata": {},
     "output_type": "display_data"
    },
    {
     "name": "stdout",
     "output_type": "stream",
     "text": [
      "------------------------------\n"
     ]
    },
    {
     "data": {
      "text/plain": [
       "np.int64(301)"
      ]
     },
     "metadata": {},
     "output_type": "display_data"
    }
   ],
   "source": [
    "# display(df_surf['Age'])\n",
    "# print('------------------------------')\n",
    "display(df_surf['Age'].nunique())\n",
    "print('------------------------------')\n",
    "display(df_surf['Age'].isnull().sum())"
   ]
  },
  {
   "cell_type": "code",
   "execution_count": 23,
   "id": "d3135a49-e279-4f35-a2ff-031e597bad53",
   "metadata": {},
   "outputs": [],
   "source": [
    "# Standarize values in column Age using regex\n",
    "df_surf['Age'] = pd.to_numeric(df['Age'], errors='coerce').astype('Int64')"
   ]
  },
  {
   "cell_type": "code",
   "execution_count": 24,
   "id": "0436d120-78d0-4334-8d69-f47ea33811fc",
   "metadata": {},
   "outputs": [
    {
     "data": {
      "text/plain": [
       "75"
      ]
     },
     "metadata": {},
     "output_type": "display_data"
    },
    {
     "name": "stdout",
     "output_type": "stream",
     "text": [
      "------------------------------\n"
     ]
    },
    {
     "data": {
      "text/plain": [
       "np.int64(393)"
      ]
     },
     "metadata": {},
     "output_type": "display_data"
    }
   ],
   "source": [
    "# display(df_surf['Age'])\n",
    "# print('------------------------------')\n",
    "display(df_surf['Age'].nunique())\n",
    "print('------------------------------')\n",
    "display(df_surf['Age'].isnull().sum())"
   ]
  },
  {
   "cell_type": "code",
   "execution_count": 25,
   "id": "2173913d-0e54-4b86-92bf-507b97158b5a",
   "metadata": {},
   "outputs": [
    {
     "data": {
      "text/html": [
       "<div>\n",
       "<style scoped>\n",
       "    .dataframe tbody tr th:only-of-type {\n",
       "        vertical-align: middle;\n",
       "    }\n",
       "\n",
       "    .dataframe tbody tr th {\n",
       "        vertical-align: top;\n",
       "    }\n",
       "\n",
       "    .dataframe thead th {\n",
       "        text-align: right;\n",
       "    }\n",
       "</style>\n",
       "<table border=\"1\" class=\"dataframe\">\n",
       "  <thead>\n",
       "    <tr style=\"text-align: right;\">\n",
       "      <th></th>\n",
       "      <th>Date</th>\n",
       "      <th>Year</th>\n",
       "      <th>Type</th>\n",
       "      <th>Country</th>\n",
       "      <th>State</th>\n",
       "      <th>Location</th>\n",
       "      <th>Activity</th>\n",
       "      <th>Name</th>\n",
       "      <th>Sex</th>\n",
       "      <th>Age</th>\n",
       "      <th>Injury</th>\n",
       "      <th>Fatal_Y/N</th>\n",
       "      <th>Time</th>\n",
       "      <th>Species</th>\n",
       "    </tr>\n",
       "  </thead>\n",
       "  <tbody>\n",
       "    <tr>\n",
       "      <th>0</th>\n",
       "      <td>6th September</td>\n",
       "      <td>2025</td>\n",
       "      <td>Unprovoked</td>\n",
       "      <td>AUSTRALIA</td>\n",
       "      <td>Nsw</td>\n",
       "      <td>Long Reef Sydney</td>\n",
       "      <td>Surfing</td>\n",
       "      <td>Mercury Psillaskis</td>\n",
       "      <td>M</td>\n",
       "      <td>57</td>\n",
       "      <td>Both legs and arm severed</td>\n",
       "      <td>Y</td>\n",
       "      <td>0930hrs</td>\n",
       "      <td>Great White Shark</td>\n",
       "    </tr>\n",
       "    <tr>\n",
       "      <th>1</th>\n",
       "      <td>18th August</td>\n",
       "      <td>2025</td>\n",
       "      <td>Unprovoked</td>\n",
       "      <td>AUSTRALIA</td>\n",
       "      <td>Nsw</td>\n",
       "      <td>Cabarita Beach</td>\n",
       "      <td>Surfing</td>\n",
       "      <td>Brad Ross</td>\n",
       "      <td>M</td>\n",
       "      <td>8</td>\n",
       "      <td>None sustained board severly damaged</td>\n",
       "      <td>N</td>\n",
       "      <td>0730hrs</td>\n",
       "      <td>5m (16.5ft) Great White</td>\n",
       "    </tr>\n",
       "    <tr>\n",
       "      <th>2</th>\n",
       "      <td>7th August</td>\n",
       "      <td>2025</td>\n",
       "      <td>Unprovoked</td>\n",
       "      <td>AUSTRALIA</td>\n",
       "      <td>Nsw</td>\n",
       "      <td>Tathra Beach</td>\n",
       "      <td>Surfing</td>\n",
       "      <td>Bowie Daley</td>\n",
       "      <td>M</td>\n",
       "      <td>8</td>\n",
       "      <td>None sustained board severely damaged</td>\n",
       "      <td>N</td>\n",
       "      <td>1630hrs</td>\n",
       "      <td>Suspected Great White</td>\n",
       "    </tr>\n",
       "    <tr>\n",
       "      <th>3</th>\n",
       "      <td>20th July</td>\n",
       "      <td>2025</td>\n",
       "      <td>Unprovoked</td>\n",
       "      <td>CANARY ISLANDS</td>\n",
       "      <td>Fuerteventura</td>\n",
       "      <td>Los Mollinas</td>\n",
       "      <td>Surfing (Hydrofoiling)</td>\n",
       "      <td>Unknown</td>\n",
       "      <td>M</td>\n",
       "      <td>&lt;NA&gt;</td>\n",
       "      <td>Lacerations to left leg above the knee</td>\n",
       "      <td>N</td>\n",
       "      <td>PM</td>\n",
       "      <td>Undetermined</td>\n",
       "    </tr>\n",
       "    <tr>\n",
       "      <th>4</th>\n",
       "      <td>18th July</td>\n",
       "      <td>2025</td>\n",
       "      <td>Unprovoked</td>\n",
       "      <td>USA</td>\n",
       "      <td>Florida</td>\n",
       "      <td>New Smyrna Beach</td>\n",
       "      <td>Surfing</td>\n",
       "      <td>Sam Hollis</td>\n",
       "      <td>M</td>\n",
       "      <td>63</td>\n",
       "      <td>Lacerations to left foot</td>\n",
       "      <td>N</td>\n",
       "      <td>1150hrs</td>\n",
       "      <td>Undetermined</td>\n",
       "    </tr>\n",
       "    <tr>\n",
       "      <th>...</th>\n",
       "      <td>...</td>\n",
       "      <td>...</td>\n",
       "      <td>...</td>\n",
       "      <td>...</td>\n",
       "      <td>...</td>\n",
       "      <td>...</td>\n",
       "      <td>...</td>\n",
       "      <td>...</td>\n",
       "      <td>...</td>\n",
       "      <td>...</td>\n",
       "      <td>...</td>\n",
       "      <td>...</td>\n",
       "      <td>...</td>\n",
       "      <td>...</td>\n",
       "    </tr>\n",
       "    <tr>\n",
       "      <th>1422</th>\n",
       "      <td>16-Feb-1910</td>\n",
       "      <td>2013</td>\n",
       "      <td>Unprovoked</td>\n",
       "      <td>AUSTRALIA</td>\n",
       "      <td>Western Australia</td>\n",
       "      <td>Bunbury</td>\n",
       "      <td>Surf bathing</td>\n",
       "      <td>George Cridland</td>\n",
       "      <td>M</td>\n",
       "      <td>62</td>\n",
       "      <td>Shoulder, back &amp; leg bitten</td>\n",
       "      <td>N</td>\n",
       "      <td>Night</td>\n",
       "      <td>5.5' to 6' shark</td>\n",
       "    </tr>\n",
       "    <tr>\n",
       "      <th>1423</th>\n",
       "      <td>1842</td>\n",
       "      <td>2013</td>\n",
       "      <td>Unprovoked</td>\n",
       "      <td>INDIA</td>\n",
       "      <td>Tamil Nadu</td>\n",
       "      <td>Chennai (formerly Madras)</td>\n",
       "      <td>Washed off catamaran in the surf</td>\n",
       "      <td>male</td>\n",
       "      <td>M</td>\n",
       "      <td>43</td>\n",
       "      <td>FATAL</td>\n",
       "      <td>Y</td>\n",
       "      <td>NaN</td>\n",
       "      <td>NaN</td>\n",
       "    </tr>\n",
       "    <tr>\n",
       "      <th>1424</th>\n",
       "      <td>1828</td>\n",
       "      <td>2013</td>\n",
       "      <td>Unprovoked</td>\n",
       "      <td>USA</td>\n",
       "      <td>Hawaii</td>\n",
       "      <td>Uo, Lahaina, Maui</td>\n",
       "      <td>Surfing</td>\n",
       "      <td>Male</td>\n",
       "      <td>M</td>\n",
       "      <td>&lt;NA&gt;</td>\n",
       "      <td>FATAL</td>\n",
       "      <td>Y</td>\n",
       "      <td>NaN</td>\n",
       "      <td>NaN</td>\n",
       "    </tr>\n",
       "    <tr>\n",
       "      <th>1425</th>\n",
       "      <td>1779</td>\n",
       "      <td>2013</td>\n",
       "      <td>Unprovoked</td>\n",
       "      <td>USA</td>\n",
       "      <td>Hawaii</td>\n",
       "      <td>Maliu, Hawai'i</td>\n",
       "      <td>Surfing</td>\n",
       "      <td>Nu'u-anu-pa'a hu</td>\n",
       "      <td>M</td>\n",
       "      <td>26</td>\n",
       "      <td>FATAL, buttock lacerated</td>\n",
       "      <td>Y</td>\n",
       "      <td>NaN</td>\n",
       "      <td>NaN</td>\n",
       "    </tr>\n",
       "    <tr>\n",
       "      <th>1426</th>\n",
       "      <td>Beforer 1994</td>\n",
       "      <td>2012</td>\n",
       "      <td>Unprovoked</td>\n",
       "      <td>USA</td>\n",
       "      <td>Florida</td>\n",
       "      <td>Lost Tree Village, Palm Beach County</td>\n",
       "      <td>Surfing</td>\n",
       "      <td>C.M</td>\n",
       "      <td>M</td>\n",
       "      <td>&lt;NA&gt;</td>\n",
       "      <td>Legs bitten</td>\n",
       "      <td>N</td>\n",
       "      <td>NaN</td>\n",
       "      <td>NaN</td>\n",
       "    </tr>\n",
       "  </tbody>\n",
       "</table>\n",
       "<p>1427 rows × 14 columns</p>\n",
       "</div>"
      ],
      "text/plain": [
       "               Date  Year        Type         Country              State  \\\n",
       "0     6th September  2025  Unprovoked       AUSTRALIA                Nsw   \n",
       "1       18th August  2025  Unprovoked       AUSTRALIA                Nsw   \n",
       "2        7th August  2025  Unprovoked       AUSTRALIA                Nsw   \n",
       "3         20th July  2025  Unprovoked  CANARY ISLANDS      Fuerteventura   \n",
       "4         18th July  2025  Unprovoked             USA            Florida   \n",
       "...             ...   ...         ...             ...                ...   \n",
       "1422    16-Feb-1910  2013  Unprovoked       AUSTRALIA  Western Australia   \n",
       "1423           1842  2013  Unprovoked           INDIA         Tamil Nadu   \n",
       "1424           1828  2013  Unprovoked             USA             Hawaii   \n",
       "1425           1779  2013  Unprovoked             USA             Hawaii   \n",
       "1426   Beforer 1994  2012  Unprovoked             USA            Florida   \n",
       "\n",
       "                                  Location                          Activity  \\\n",
       "0                         Long Reef Sydney                           Surfing   \n",
       "1                           Cabarita Beach                           Surfing   \n",
       "2                            Tathra Beach                            Surfing   \n",
       "3                             Los Mollinas            Surfing (Hydrofoiling)   \n",
       "4                         New Smyrna Beach                           Surfing   \n",
       "...                                    ...                               ...   \n",
       "1422                               Bunbury                      Surf bathing   \n",
       "1423             Chennai (formerly Madras)  Washed off catamaran in the surf   \n",
       "1424                     Uo, Lahaina, Maui                           Surfing   \n",
       "1425                        Maliu, Hawai'i                           Surfing   \n",
       "1426  Lost Tree Village, Palm Beach County                           Surfing   \n",
       "\n",
       "                    Name Sex   Age                                  Injury  \\\n",
       "0     Mercury Psillaskis   M    57               Both legs and arm severed   \n",
       "1              Brad Ross   M     8    None sustained board severly damaged   \n",
       "2            Bowie Daley   M     8   None sustained board severely damaged   \n",
       "3                Unknown   M  <NA>  Lacerations to left leg above the knee   \n",
       "4             Sam Hollis   M    63                Lacerations to left foot   \n",
       "...                  ...  ..   ...                                     ...   \n",
       "1422     George Cridland   M    62             Shoulder, back & leg bitten   \n",
       "1423                male   M    43                                   FATAL   \n",
       "1424                Male   M  <NA>                                   FATAL   \n",
       "1425    Nu'u-anu-pa'a hu   M    26              FATAL, buttock lacerated     \n",
       "1426                 C.M   M  <NA>                             Legs bitten   \n",
       "\n",
       "     Fatal_Y/N     Time                  Species  \n",
       "0            Y  0930hrs        Great White Shark  \n",
       "1            N  0730hrs  5m (16.5ft) Great White  \n",
       "2            N  1630hrs    Suspected Great White  \n",
       "3            N       PM             Undetermined  \n",
       "4            N  1150hrs             Undetermined  \n",
       "...        ...      ...                      ...  \n",
       "1422         N    Night         5.5' to 6' shark  \n",
       "1423         Y      NaN                      NaN  \n",
       "1424         Y      NaN                      NaN  \n",
       "1425         Y      NaN                      NaN  \n",
       "1426         N      NaN                      NaN  \n",
       "\n",
       "[1427 rows x 14 columns]"
      ]
     },
     "execution_count": 25,
     "metadata": {},
     "output_type": "execute_result"
    }
   ],
   "source": [
    "df_surf"
   ]
  },
  {
   "cell_type": "code",
   "execution_count": 26,
   "id": "c4f32489-ba41-4ab1-9fcf-f6648f1451e0",
   "metadata": {},
   "outputs": [],
   "source": [
    "# Save Cleaned Data to CSV\n",
    "df_surf.to_csv('cleaned_data_df_surf.csv', index=False)"
   ]
  },
  {
   "cell_type": "code",
   "execution_count": 37,
   "id": "55cf919e-5c4f-4910-9c8e-9d3470eac18c",
   "metadata": {},
   "outputs": [
    {
     "data": {
      "image/png": "[encoded data removed]",
      "text/plain": [
       "<Figure size 1000x600 with 1 Axes>"
      ]
     },
     "metadata": {},
     "output_type": "display_data"
    }
   ],
   "source": [
    "# --- 10 Top Countries More Surfing Attacks ---\n",
    "\n",
    "plt.figure(figsize=(10,6))\n",
    "top_countries = df_surf['Country'].value_counts().head(10)\n",
    "sns.barplot(x=top_countries.values, y=top_countries.index)\n",
    "plt.title(\"Top 10 Countries for Surfing Shark Attacks\")\n",
    "plt.ylabel(\"Country\")\n",
    "plt.xlabel(\"Number of Attacks\")\n",
    "plt.xticks(rotation=45)\n",
    "plt.tight_layout()\n",
    "plt.show()"
   ]
  },
  {
   "cell_type": "code",
   "execution_count": 38,
   "id": "b718888b-8467-45f3-a877-e88b5a112a04",
   "metadata": {},
   "outputs": [
    {
     "data": {
      "image/png": "[encoded data removed]",
      "text/plain": [
       "<Figure size 1000x600 with 1 Axes>"
      ]
     },
     "metadata": {},
     "output_type": "display_data"
    },
    {
     "data": {
      "image/png": "[encoded data removed]",
      "text/plain": [
       "<Figure size 1000x600 with 1 Axes>"
      ]
     },
     "metadata": {},
     "output_type": "display_data"
    }
   ],
   "source": [
    "# --- Top states for US and Australia ---\n",
    "for country in ['USA', 'AUSTRALIA']:\n",
    "    plt.figure(figsize=(10,6))\n",
    "    top_states = df_surf[df_surf['Country'] == country]['State'].value_counts().head(5)\n",
    "    sns.barplot(y=top_states.index, x=top_states.values)\n",
    "    plt.title(f\"Top 5 States for Surfing Attacks in {country}\")\n",
    "    plt.ylabel(\"State\")\n",
    "    plt.xlabel(\"Number of Attacks\")\n",
    "    plt.xticks(rotation=45)\n",
    "    plt.tight_layout()\n",
    "    plt.show()"
   ]
  },
  {
   "cell_type": "code",
   "execution_count": 39,
   "id": "de7656bb-8ffb-49af-88e9-cd3c0ff48a55",
   "metadata": {},
   "outputs": [
    {
     "data": {
      "text/html": [
       "<div>\n",
       "<style scoped>\n",
       "    .dataframe tbody tr th:only-of-type {\n",
       "        vertical-align: middle;\n",
       "    }\n",
       "\n",
       "    .dataframe tbody tr th {\n",
       "        vertical-align: top;\n",
       "    }\n",
       "\n",
       "    .dataframe thead th {\n",
       "        text-align: right;\n",
       "    }\n",
       "</style>\n",
       "<table border=\"1\" class=\"dataframe\">\n",
       "  <thead>\n",
       "    <tr style=\"text-align: right;\">\n",
       "      <th></th>\n",
       "      <th>Country</th>\n",
       "      <th>State</th>\n",
       "      <th>Attack_Count</th>\n",
       "    </tr>\n",
       "  </thead>\n",
       "  <tbody>\n",
       "    <tr>\n",
       "      <th>0</th>\n",
       "      <td>USA</td>\n",
       "      <td>Florida</td>\n",
       "      <td>476</td>\n",
       "    </tr>\n",
       "    <tr>\n",
       "      <th>1</th>\n",
       "      <td>AUSTRALIA</td>\n",
       "      <td>New South Wales</td>\n",
       "      <td>156</td>\n",
       "    </tr>\n",
       "    <tr>\n",
       "      <th>2</th>\n",
       "      <td>USA</td>\n",
       "      <td>California</td>\n",
       "      <td>118</td>\n",
       "    </tr>\n",
       "    <tr>\n",
       "      <th>3</th>\n",
       "      <td>USA</td>\n",
       "      <td>Hawaii</td>\n",
       "      <td>98</td>\n",
       "    </tr>\n",
       "    <tr>\n",
       "      <th>4</th>\n",
       "      <td>AUSTRALIA</td>\n",
       "      <td>Western Australia</td>\n",
       "      <td>53</td>\n",
       "    </tr>\n",
       "    <tr>\n",
       "      <th>5</th>\n",
       "      <td>AUSTRALIA</td>\n",
       "      <td>South Australia</td>\n",
       "      <td>34</td>\n",
       "    </tr>\n",
       "    <tr>\n",
       "      <th>6</th>\n",
       "      <td>USA</td>\n",
       "      <td>North Carolina</td>\n",
       "      <td>32</td>\n",
       "    </tr>\n",
       "    <tr>\n",
       "      <th>7</th>\n",
       "      <td>AUSTRALIA</td>\n",
       "      <td>Queensland</td>\n",
       "      <td>30</td>\n",
       "    </tr>\n",
       "    <tr>\n",
       "      <th>8</th>\n",
       "      <td>USA</td>\n",
       "      <td>Oregon</td>\n",
       "      <td>30</td>\n",
       "    </tr>\n",
       "    <tr>\n",
       "      <th>9</th>\n",
       "      <td>AUSTRALIA</td>\n",
       "      <td>Victoria</td>\n",
       "      <td>28</td>\n",
       "    </tr>\n",
       "    <tr>\n",
       "      <th>10</th>\n",
       "      <td>USA</td>\n",
       "      <td>South Carolina</td>\n",
       "      <td>17</td>\n",
       "    </tr>\n",
       "    <tr>\n",
       "      <th>11</th>\n",
       "      <td>USA</td>\n",
       "      <td>Texas</td>\n",
       "      <td>16</td>\n",
       "    </tr>\n",
       "    <tr>\n",
       "      <th>12</th>\n",
       "      <td>AUSTRALIA</td>\n",
       "      <td>Tasmania</td>\n",
       "      <td>6</td>\n",
       "    </tr>\n",
       "    <tr>\n",
       "      <th>13</th>\n",
       "      <td>USA</td>\n",
       "      <td>New York</td>\n",
       "      <td>6</td>\n",
       "    </tr>\n",
       "    <tr>\n",
       "      <th>14</th>\n",
       "      <td>AUSTRALIA</td>\n",
       "      <td>Torres Strait</td>\n",
       "      <td>5</td>\n",
       "    </tr>\n",
       "    <tr>\n",
       "      <th>15</th>\n",
       "      <td>USA</td>\n",
       "      <td>New Jersey</td>\n",
       "      <td>5</td>\n",
       "    </tr>\n",
       "    <tr>\n",
       "      <th>16</th>\n",
       "      <td>AUSTRALIA</td>\n",
       "      <td>Nsw</td>\n",
       "      <td>4</td>\n",
       "    </tr>\n",
       "    <tr>\n",
       "      <th>17</th>\n",
       "      <td>USA</td>\n",
       "      <td>Georgia</td>\n",
       "      <td>3</td>\n",
       "    </tr>\n",
       "    <tr>\n",
       "      <th>18</th>\n",
       "      <td>USA</td>\n",
       "      <td>Virginia</td>\n",
       "      <td>2</td>\n",
       "    </tr>\n",
       "    <tr>\n",
       "      <th>19</th>\n",
       "      <td>USA</td>\n",
       "      <td>Washington</td>\n",
       "      <td>2</td>\n",
       "    </tr>\n",
       "    <tr>\n",
       "      <th>20</th>\n",
       "      <td>AUSTRALIA</td>\n",
       "      <td>Northern Territory</td>\n",
       "      <td>1</td>\n",
       "    </tr>\n",
       "    <tr>\n",
       "      <th>21</th>\n",
       "      <td>USA</td>\n",
       "      <td>Alabama</td>\n",
       "      <td>1</td>\n",
       "    </tr>\n",
       "    <tr>\n",
       "      <th>22</th>\n",
       "      <td>AUSTRALIA</td>\n",
       "      <td>Wa</td>\n",
       "      <td>1</td>\n",
       "    </tr>\n",
       "    <tr>\n",
       "      <th>23</th>\n",
       "      <td>USA</td>\n",
       "      <td>Franklin County, Florida</td>\n",
       "      <td>1</td>\n",
       "    </tr>\n",
       "    <tr>\n",
       "      <th>24</th>\n",
       "      <td>USA</td>\n",
       "      <td>Guam</td>\n",
       "      <td>1</td>\n",
       "    </tr>\n",
       "    <tr>\n",
       "      <th>25</th>\n",
       "      <td>USA</td>\n",
       "      <td>Noirth Carolina</td>\n",
       "      <td>1</td>\n",
       "    </tr>\n",
       "    <tr>\n",
       "      <th>26</th>\n",
       "      <td>USA</td>\n",
       "      <td>Massachusetts</td>\n",
       "      <td>1</td>\n",
       "    </tr>\n",
       "    <tr>\n",
       "      <th>27</th>\n",
       "      <td>USA</td>\n",
       "      <td>Rhode Island</td>\n",
       "      <td>1</td>\n",
       "    </tr>\n",
       "    <tr>\n",
       "      <th>28</th>\n",
       "      <td>USA</td>\n",
       "      <td>Puerto Rico</td>\n",
       "      <td>1</td>\n",
       "    </tr>\n",
       "  </tbody>\n",
       "</table>\n",
       "</div>"
      ],
      "text/plain": [
       "      Country                     State  Attack_Count\n",
       "0         USA                   Florida           476\n",
       "1   AUSTRALIA           New South Wales           156\n",
       "2         USA                California           118\n",
       "3         USA                    Hawaii            98\n",
       "4   AUSTRALIA         Western Australia            53\n",
       "5   AUSTRALIA           South Australia            34\n",
       "6         USA            North Carolina            32\n",
       "7   AUSTRALIA                Queensland            30\n",
       "8         USA                    Oregon            30\n",
       "9   AUSTRALIA                  Victoria            28\n",
       "10        USA            South Carolina            17\n",
       "11        USA                     Texas            16\n",
       "12  AUSTRALIA                  Tasmania             6\n",
       "13        USA                  New York             6\n",
       "14  AUSTRALIA             Torres Strait             5\n",
       "15        USA                New Jersey             5\n",
       "16  AUSTRALIA                       Nsw             4\n",
       "17        USA                   Georgia             3\n",
       "18        USA                  Virginia             2\n",
       "19        USA                Washington             2\n",
       "20  AUSTRALIA        Northern Territory             1\n",
       "21        USA                   Alabama             1\n",
       "22  AUSTRALIA                        Wa             1\n",
       "23        USA  Franklin County, Florida             1\n",
       "24        USA                      Guam             1\n",
       "25        USA           Noirth Carolina             1\n",
       "26        USA             Massachusetts             1\n",
       "27        USA              Rhode Island             1\n",
       "28        USA               Puerto Rico             1"
      ]
     },
     "metadata": {},
     "output_type": "display_data"
    }
   ],
   "source": [
    "def attacks_pivot(df: pd.DataFrame) -> pd.DataFrame:\n",
    "    # Filter only for USA and Australia\n",
    "    df_filtered = df[df['Country'].isin(['USA', 'AUSTRALIA'])].copy()\n",
    "    \n",
    "    # Group by Country, State, Beach and count attacks\n",
    "    pivot = df_filtered.groupby(['Country', 'State']).size().reset_index(name='Attack_Count')\n",
    "\n",
    "    # Sort by Attack_Count descending for risk ranking\n",
    "    pivot = pivot.sort_values(by='Attack_Count', ascending=False).reset_index(drop=True)\n",
    "\n",
    "    return pivot\n",
    "\n",
    "display(attacks_pivot(df_surf))"
   ]
  },
  {
   "cell_type": "code",
   "execution_count": 40,
   "id": "25d4fa58-840f-4c81-98ba-aca5eb54434b",
   "metadata": {},
   "outputs": [
    {
     "data": {
      "image/png": "[encoded data removed]",
      "text/plain": [
       "<Figure size 600x600 with 1 Axes>"
      ]
     },
     "metadata": {},
     "output_type": "display_data"
    },
    {
     "data": {
      "image/png": "[encoded data removed]",
      "text/plain": [
       "<Figure size 600x600 with 1 Axes>"
      ]
     },
     "metadata": {},
     "output_type": "display_data"
    }
   ],
   "source": [
    "# --- Fatal vs Non-Fatal surfing attacks in USA and ASUTRALIA ---\n",
    "\n",
    "for country in ['USA', 'AUSTRALIA']:\n",
    "    country_surf = df_surf[df_surf['Country'] == country]\n",
    "    # Get counts of fatal vs non-fatal\n",
    "    fatal_counts_usa = country_surf ['Fatal_Y/N'].value_counts()\n",
    "    \n",
    "    # Plot pie chart\n",
    "    plt.figure(figsize=(6,6))\n",
    "    plt.pie(fatal_counts_usa, \n",
    "            labels=fatal_counts_usa.index.map({'N': 'Non-Fatal', 'Y': 'Fatal'}),\n",
    "            autopct='%1.1f%%', \n",
    "            colors=sns.color_palette('Set2'))\n",
    "    plt.title(f'Fatal vs Non-Fatal Surfing Shark Attacks in {country}')\n",
    "    plt.show()"
   ]
  },
  {
   "cell_type": "code",
   "execution_count": 41,
   "id": "2e456ca5-898c-4b19-b287-6fe5377f8b7f",
   "metadata": {},
   "outputs": [
    {
     "data": {
      "image/png": "[encoded data removed]",
      "text/plain": [
       "<Figure size 1200x600 with 1 Axes>"
      ]
     },
     "metadata": {},
     "output_type": "display_data"
    },
    {
     "name": "stdout",
     "output_type": "stream",
     "text": [
      "USA - Mean Age: 31.86348122866894 Std Dev: 17.249852148420928\n",
      "Australia - Mean Age: 35.097457627118644 Std Dev: 18.02064519053919\n"
     ]
    }
   ],
   "source": [
    "# --- Distribution and Deviation (standard deviation) of age victims in both the USA and Australia  ---\n",
    "\n",
    "# Ensure Age column is numeric and drop NaNs\n",
    "df_surf['Age'] = pd.to_numeric(df_surf['Age'], errors='coerce')\n",
    "\n",
    "# Filter for USA and Australia only, drop missing ages\n",
    "df_usa = df_surf[(df_surf['Country'] == 'USA') & (df_surf['Age'].notnull())].copy()\n",
    "df_aus = df_surf[(df_surf['Country'] == 'AUSTRALIA') & (df_surf['Age'].notnull())].copy()\n",
    "\n",
    "# Prepare data for plotting\n",
    "df_usa.loc[:, 'Country'] = 'USA'\n",
    "df_aus.loc[:, 'Country'] = 'Australia'\n",
    "df_age = pd.concat([df_usa[['Age','Country']], df_aus[['Age','Country']]])\n",
    "\n",
    "# Plot distribution and standard deviation\n",
    "plt.figure(figsize=(12,6))\n",
    "sns.histplot(data=df_age, x='Age', hue='Country', bins=20, stat='density', kde=True, alpha=0.5)\n",
    "plt.title('Age Distribution of Surfing Shark Attack Victims\\nUSA vs Australia')\n",
    "plt.xlabel('Age')\n",
    "plt.ylabel('Density')\n",
    "plt.legend(title='Country', labels=['USA', 'Australia'])\n",
    "plt.tight_layout()\n",
    "plt.show()\n",
    "\n",
    "# Print basic stats for context\n",
    "print(\"USA - Mean Age:\", df_usa['Age'].mean(), \"Std Dev:\", df_usa['Age'].std())\n",
    "print(\"Australia - Mean Age:\", df_aus['Age'].mean(), \"Std Dev:\", df_aus['Age'].std())"
   ]
  },
  {
   "cell_type": "code",
   "execution_count": 42,
   "id": "2f0401ec-2623-4a15-a412-96533740fea9",
   "metadata": {},
   "outputs": [
    {
     "data": {
      "image/png": "[encoded data removed]",
      "text/plain": [
       "<Figure size 1000x600 with 1 Axes>"
      ]
     },
     "metadata": {},
     "output_type": "display_data"
    }
   ],
   "source": [
    "# --- Trend of surfing shark attacks in the last 10 years in USA and AUSTRALIA ---\n",
    "# Filter for USA and Australia attacks\n",
    "recent_years = sorted(df_surf['Year'].dropna().unique())[-10:]  # get last 10 years\n",
    "df_recent = df_surf[df_surf['Year'].isin(recent_years) & df_surf['Country'].isin(['USA', 'AUSTRALIA'])]\n",
    "\n",
    "# Group by year and country\n",
    "trend_df = df_recent.groupby(['Year', 'Country']).size().reset_index(name='Attacks')\n",
    "\n",
    "plt.figure(figsize=(10,6))\n",
    "sns.lineplot(data=trend_df, x='Year', y='Attacks', hue='Country', marker='o')\n",
    "plt.title('Surfing Shark Attacks in USA & Australia (Last 10 Years)')\n",
    "plt.xlabel('Year')\n",
    "plt.ylabel('Number of Attacks')\n",
    "plt.xticks(recent_years, rotation=45)\n",
    "plt.tight_layout()\n",
    "plt.show()"
   ]
  },
  {
   "cell_type": "code",
   "execution_count": 49,
   "id": "ad3a38ec-2f98-4202-9a9c-a9676866bee0",
   "metadata": {},
   "outputs": [
    {
     "data": {
      "image/png": "[encoded data removed]",
      "text/plain": [
       "<Figure size 800x600 with 1 Axes>"
      ]
     },
     "metadata": {},
     "output_type": "display_data"
    }
   ],
   "source": [
    "# Filter only USA and AUSTRALIA\n",
    "df_grouped = df_surf[df_surf['Country'].isin(['USA', 'AUSTRALIA'])]\n",
    "\n",
    "# Group by Country and Sex, count number of attacks\n",
    "sex_country_counts = df_grouped.groupby(['Country', 'Sex']).size().reset_index(name='AttackCount')\n",
    "\n",
    "# Draw grouped barplot\n",
    "plt.figure(figsize=(8,6))\n",
    "sns.barplot(data=sex_country_counts, x='Sex', y='AttackCount', hue='Country', palette=\"Set2\")\n",
    "plt.title(\"Sex of Surfing Attack Victims by Country (USA & AUSTRALIA)\")\n",
    "plt.xlabel(\"Sex\")\n",
    "plt.ylabel(\"Number of Attacks\")\n",
    "plt.legend(title='Country')\n",
    "plt.tight_layout()\n",
    "plt.show()"
   ]
  },
  {
   "cell_type": "code",
   "execution_count": 44,
   "id": "40b09c91-1bbc-4d21-b27c-4fda5074177b",
   "metadata": {},
   "outputs": [
    {
     "data": {
      "text/html": [
       "<div>\n",
       "<style scoped>\n",
       "    .dataframe tbody tr th:only-of-type {\n",
       "        vertical-align: middle;\n",
       "    }\n",
       "\n",
       "    .dataframe tbody tr th {\n",
       "        vertical-align: top;\n",
       "    }\n",
       "\n",
       "    .dataframe thead th {\n",
       "        text-align: right;\n",
       "    }\n",
       "</style>\n",
       "<table border=\"1\" class=\"dataframe\">\n",
       "  <thead>\n",
       "    <tr style=\"text-align: right;\">\n",
       "      <th>Sex</th>\n",
       "      <th>F</th>\n",
       "      <th>M</th>\n",
       "    </tr>\n",
       "    <tr>\n",
       "      <th>Country</th>\n",
       "      <th></th>\n",
       "      <th></th>\n",
       "    </tr>\n",
       "  </thead>\n",
       "  <tbody>\n",
       "    <tr>\n",
       "      <th>AUSTRALIA</th>\n",
       "      <td>16</td>\n",
       "      <td>299</td>\n",
       "    </tr>\n",
       "    <tr>\n",
       "      <th>USA</th>\n",
       "      <td>72</td>\n",
       "      <td>718</td>\n",
       "    </tr>\n",
       "  </tbody>\n",
       "</table>\n",
       "</div>"
      ],
      "text/plain": [
       "Sex         F    M\n",
       "Country           \n",
       "AUSTRALIA  16  299\n",
       "USA        72  718"
      ]
     },
     "metadata": {},
     "output_type": "display_data"
    }
   ],
   "source": [
    "df_grouped = df_surf[df_surf['Country'].isin(['USA', 'AUSTRALIA'])]\n",
    "\n",
    "# Group by Country and Sex, count number of attacks\n",
    "sex_country_counts = df_grouped.groupby(['Country', 'Sex']).size().reset_index(name='AttackCount')\n",
    "pivot_table = sex_country_counts.pivot(index=\"Country\", columns=\"Sex\", values=\"AttackCount\").fillna(0)\n",
    "display(pivot_table)"
   ]
  },
  {
   "cell_type": "code",
   "execution_count": 45,
   "id": "148bf67f-7076-4a28-9f1c-08660ad2424a",
   "metadata": {},
   "outputs": [],
   "source": [
    "# - Country/state/beach risk rankings\n",
    "\n",
    "def surfing_risk_score(country, state, age, sex):\n",
    "    score = 0\n",
    "    if country.upper() in ['USA', 'AUSTRALIA']:\n",
    "        score += 2\n",
    "    if state.title() in ['Florida', 'Nsw']:\n",
    "        score += 2\n",
    "    if sex == 'M':\n",
    "        score += 1\n",
    "    if age and 15 <= age <= 40:\n",
    "        score += 1\n",
    "    return score"
   ]
  },
  {
   "cell_type": "code",
   "execution_count": 47,
   "id": "ca474c16-c211-44cc-a959-d94a833f25a1",
   "metadata": {},
   "outputs": [
    {
     "name": "stdin",
     "output_type": "stream",
     "text": [
      "Enter country:  australia\n",
      "Enter state:  nsw\n",
      "Enter sex (M/F):  M\n",
      "Enter age:  25\n"
     ]
    },
    {
     "name": "stdout",
     "output_type": "stream",
     "text": [
      "6\n"
     ]
    }
   ],
   "source": [
    "country = input(\"Enter country: \")\n",
    "state = input(\"Enter state: \")\n",
    "sex = input(\"Enter sex (M/F): \")\n",
    "age = input(\"Enter age: \")\n",
    "\n",
    "# Convert age to int, but leave sex as string\n",
    "age = int(age)\n",
    "\n",
    "score = surfing_risk_score(country, state, age, sex)\n",
    "print(score)"
   ]
  },
  {
   "cell_type": "code",
   "execution_count": 5,
   "id": "ff4513f5-116d-4ca5-8308-40c89262b83a",
   "metadata": {},
   "outputs": [
    {
     "name": "stdout",
     "output_type": "stream",
     "text": [
      "<class 'pandas.core.frame.DataFrame'>\n",
      "RangeIndex: 7045 entries, 0 to 7044\n",
      "Data columns (total 23 columns):\n",
      " #   Column          Non-Null Count  Dtype  \n",
      "---  ------          --------------  -----  \n",
      " 0   Date            7045 non-null   object \n",
      " 1   Year            7043 non-null   float64\n",
      " 2   Type            7027 non-null   object \n",
      " 3   Country         6995 non-null   object \n",
      " 4   State           6560 non-null   object \n",
      " 5   Location        6478 non-null   object \n",
      " 6   Activity        6460 non-null   object \n",
      " 7   Name            6826 non-null   object \n",
      " 8   Sex             6466 non-null   object \n",
      " 9   Age             4051 non-null   object \n",
      " 10  Injury          7010 non-null   object \n",
      " 11  Fatal Y/N       6484 non-null   object \n",
      " 12  Time            3519 non-null   object \n",
      " 13  Species         3914 non-null   object \n",
      " 14  Source          7025 non-null   object \n",
      " 15  pdf             6799 non-null   object \n",
      " 16  href formula    6794 non-null   object \n",
      " 17  href            6796 non-null   object \n",
      " 18  Case Number     6798 non-null   object \n",
      " 19  Case Number.1   6797 non-null   object \n",
      " 20  original order  6799 non-null   float64\n",
      " 21  Unnamed: 21     1 non-null      object \n",
      " 22  Unnamed: 22     2 non-null      object \n",
      "dtypes: float64(2), object(21)\n",
      "memory usage: 1.2+ MB\n"
     ]
    },
    {
     "data": {
      "text/plain": [
       "None"
      ]
     },
     "metadata": {},
     "output_type": "display_data"
    }
   ],
   "source": [
    "import pandas as pd\n",
    "import numpy as np\n",
    "import matplotlib.pyplot as plt\n",
    "import seaborn as sns\n",
    "import re\n",
    "from src.functions import main_cleaning\n",
    "\n",
    "# %load_ext autoreload\n",
    "# %autoreload 2\n",
    "\n",
    "# Load data\n",
    "file_path = 'https://www.sharkattackfile.net/spreadsheets/GSAF5.xls'\n",
    "# file_path = r'C:\\Users\\pablo\\vscode101\\Project_Files\\GSAF5.xls'\n",
    "df = pd.read_excel(file_path)\n",
    "\n",
    "# Quick look at columns and missingness\n",
    "display(df.info())\n",
    "\n",
    "df_surf = main_cleaning(df)"
   ]
  },
  {
   "cell_type": "code",
   "execution_count": 6,
   "id": "a3e7ac3a-a3aa-4725-95f9-972ba685d7ea",
   "metadata": {},
   "outputs": [
    {
     "data": {
      "text/plain": [
       "Index(['Date', 'Year', 'Type', 'Country', 'State', 'Location', 'Activity',\n",
       "       'Name', 'Sex', 'Age', 'Injury', 'Fatal_Y/N', 'Time', 'Species'],\n",
       "      dtype='object')"
      ]
     },
     "execution_count": 6,
     "metadata": {},
     "output_type": "execute_result"
    }
   ],
   "source": [
    "df_surf.columns"
   ]
  },
  {
   "cell_type": "code",
   "execution_count": 41,
   "id": "6c8242bd-05c2-4959-9dea-4bf290a989cf",
   "metadata": {},
   "outputs": [],
   "source": [
    "# Save Cleaned Data to CSV\n",
    "df_surf.to_csv('cleaned_data_df_surf.csv', index=False)"
   ]
  },
  {
   "cell_type": "code",
   "execution_count": null,
   "id": "5a994714-d009-4dbc-b411-ddf410035273",
   "metadata": {},
   "outputs": [],
   "source": []
  }
 ],
 "metadata": {
  "kernelspec": {
   "display_name": "Python 3 (ipykernel)",
   "language": "python",
   "name": "python3"
  },
  "language_info": {
   "codemirror_mode": {
    "name": "ipython",
    "version": 3
   },
   "file_extension": ".py",
   "mimetype": "text/x-python",
   "name": "python",
   "nbconvert_exporter": "python",
   "pygments_lexer": "ipython3",
   "version": "3.10.6"
  }
 },
 "nbformat": 4,
 "nbformat_minor": 5
}
